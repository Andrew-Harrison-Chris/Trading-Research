{
 "cells": [
  {
   "cell_type": "markdown",
   "metadata": {},
   "source": [
    "# Throw a neural net at a crap ton of indicators. Try to predict if the stock will go up or down in the next n days."
   ]
  },
  {
   "cell_type": "code",
   "execution_count": 1,
   "metadata": {},
   "outputs": [
    {
     "name": "stderr",
     "output_type": "stream",
     "text": [
      "Using TensorFlow backend.\n"
     ]
    }
   ],
   "source": [
    "import numpy as np\n",
    "import pandas as pd\n",
    "import yfinance\n",
    "import matplotlib.pyplot as plt\n",
    "import seaborn as sns\n",
    "import indicators\n",
    "%matplotlib inline\n",
    "from sklearn.preprocessing import MinMaxScaler\n",
    "from keras.models import Sequential\n",
    "from keras.layers import Dense,Dropout\n",
    "from sklearn.model_selection import train_test_split\n",
    "from sklearn.model_selection import TimeSeriesSplit\n",
    "from sklearn.metrics import classification_report,confusion_matrix"
   ]
  },
  {
   "cell_type": "code",
   "execution_count": 2,
   "metadata": {},
   "outputs": [],
   "source": [
    "def get_data(ticker):\n",
    "\n",
    "    # Reading in stock data \n",
    "    data = yfinance.download(ticker)\n",
    "    print(data.shape)\n",
    "    data['Date'] = data.index\n",
    "    data.reset_index(drop=True,inplace=True)\n",
    "    data.head()\n",
    "\n",
    "    for days in [2,3,4,5,7,14,21,50,100]:\n",
    "        data = indicators.accumulation_distribution(data,days)\n",
    "        data = indicators.average_true_range(data,days)\n",
    "        data = indicators.bollinger_bands(data,days)\n",
    "        data = indicators.commodity_channel_index(data,days)\n",
    "        data = indicators.coppock_curve(data,days)\n",
    "        #data = indicators.donchian_channel(data,days)\n",
    "        data = indicators.ease_of_movement(data,days)\n",
    "        data = indicators.exponential_moving_average(data,days)\n",
    "        data = indicators.force_index(data,days)\n",
    "        data = indicators.keltner_channel(data,days)\n",
    "        data = indicators.macd(data,days,days)\n",
    "        data = indicators.momentum(data,days)\n",
    "        data = indicators.money_flow_index(data,days)\n",
    "        data = indicators.moving_average(data,days)\n",
    "        data = indicators.on_balance_volume(data,days)\n",
    "        data = indicators.rate_of_change(data,days)\n",
    "        data = indicators.relative_strength_index(data,days)\n",
    "        data = indicators.standard_deviation(data,days)\n",
    "        data = indicators.stochastic_oscillator_d(data,days)\n",
    "        data = indicators.trix(data,days)\n",
    "        data = indicators.vortex_indicator(data,days)\n",
    "\n",
    "\n",
    "\n",
    "    data = indicators.mass_index(data)\n",
    "    data = indicators.ppsr(data)\n",
    "    data = indicators.stochastic_oscillator_k(data)\n",
    "    data = indicators.ultimate_oscillator(data)    \n",
    "    data = indicators.chaikin_oscillator(data)\n",
    "\n",
    "    data = data.replace([np.inf, -np.inf], np.nan)\n",
    "    data = data.dropna()\n",
    "    \n",
    "    return data"
   ]
  },
  {
   "cell_type": "code",
   "execution_count": 3,
   "metadata": {},
   "outputs": [],
   "source": [
    "def model(ticker, ndays):\n",
    "    #Can we predict the direction of the stock in ndays with lots of indicators?\n",
    "    #ex: ticker = 'AAPL'\n",
    "    #ndays = how many days do we want to try and predict?\n",
    "    \n",
    "    \n",
    "    data = get_data(ticker)\n",
    "    copy_data = data.copy()\n",
    "    data = data[:-1] #Drop last 1 day of data, save this for testing.\n",
    "    \n",
    "    \n",
    "    # Calculating next n day price\n",
    "    data['Close5'] = data['Close'].shift(-ndays)\n",
    "\n",
    "    # Calculating next n direction\n",
    "    data['Direction5'] = data['Close5'] > data['Close']\n",
    "    data = data.dropna()\n",
    "    data.tail(10)\n",
    "\n",
    "\n",
    "\n",
    "    # Creating train and test set\n",
    "    X,y = data.drop(['Close5','Direction5','Date'],axis=1),data['Direction5']\n",
    "\n",
    "    scaler = MinMaxScaler(feature_range=(0, 1))\n",
    "    scaled_inputs = scaler.fit_transform(X)\n",
    "    scaled_inputs = pd.DataFrame(scaled_inputs,columns=X.columns)\n",
    "\n",
    "    X_train,X_test,y_train,y_test = train_test_split(scaled_inputs,y,test_size=.03,random_state=101)\n",
    "\n",
    "\n",
    "\n",
    "    # Network time\n",
    "    model = Sequential()\n",
    "    model.add(Dense(100, input_dim=X_train.shape[1], activation='relu'))\n",
    "    model.add(Dense(100, activation='relu'))\n",
    "    model.add(Dense(50, activation='relu'))\n",
    "    model.add(Dense(1, activation='sigmoid'))\n",
    "\n",
    "\n",
    "    model.compile(loss='binary_crossentropy', optimizer='adam', metrics=['accuracy'])\n",
    "    model.fit(X_train, y_train,validation_data=(X_test,y_test), epochs=300, batch_size=100, verbose=0)\n",
    "\n",
    "\n",
    "    # Get copy_data to be the same as data.\n",
    "    copy_data['Close5'] = copy_data['Close'].shift(-ndays)\n",
    "    copy_data['Direction5'] = copy_data['Close5'] > copy_data['Close']\n",
    "    copy_data = copy_data.dropna()\n",
    "    solution = pd.Series(copy_data['Direction5'].values)\n",
    "    X = copy_data.drop(['Close5','Direction5','Date'],axis=1, inplace=True)\n",
    "    \n",
    "    return solution, model, copy_data\n",
    "\n",
    " \n"
   ]
  },
  {
   "cell_type": "code",
   "execution_count": 4,
   "metadata": {},
   "outputs": [
    {
     "name": "stdout",
     "output_type": "stream",
     "text": [
      "[*********************100%***********************]  1 of 1 completed\n",
      "(9941, 6)\n",
      "[*********************100%***********************]  1 of 1 completed\n",
      "(5590, 6)\n",
      "[*********************100%***********************]  1 of 1 completed\n",
      "(4022, 6)\n",
      "[*********************100%***********************]  1 of 1 completed\n",
      "(10130, 6)\n",
      "[*********************100%***********************]  1 of 1 completed\n",
      "(4992, 6)\n",
      "[*********************100%***********************]  1 of 1 completed\n",
      "(2083, 6)\n",
      "[*********************100%***********************]  1 of 1 completed\n",
      "(759, 6)\n",
      "[*********************100%***********************]  1 of 1 completed\n",
      "(5340, 6)\n",
      "[*********************100%***********************]  1 of 1 completed\n",
      "(2719, 6)\n",
      "[*********************100%***********************]  1 of 1 completed\n",
      "(2489, 6)\n",
      "[*********************100%***********************]  1 of 1 completed\n",
      "(10130, 6)\n",
      "[*********************100%***********************]  1 of 1 completed\n",
      "(11951, 6)\n"
     ]
    }
   ],
   "source": [
    "predictions = np.array([])\n",
    "solutions = np.array([])\n",
    "#stocks chosen with : https://raybb.github.io/random-stock-picker/\n",
    "stocks = ['AAPL', 'MUH', 'GLU', 'D', 'SAVA', 'ACST', 'VERI', \n",
    "          'CLSN', 'PMT', 'TSLA', 'AMD', 'AIG']\n",
    "\n",
    "\n",
    "for stock in stocks:\n",
    "\n",
    "    solution, mod, data = model(stock, 1)\n",
    "    prediction = mod.predict(data[-1:])\n",
    "\n",
    "    predictions = np.append(predictions, mod.predict(data[-1:])[0][0])\n",
    "\n",
    "    if (solution[-1:].values[0]): #if solution is true\n",
    "        solutions = np.append(solutions,1)\n",
    "    else:\n",
    "        solutions = np.append(solutions,0)\n",
    "\n"
   ]
  },
  {
   "cell_type": "code",
   "execution_count": 13,
   "metadata": {},
   "outputs": [
    {
     "name": "stdout",
     "output_type": "stream",
     "text": [
      "50.0 % correct\n"
     ]
    }
   ],
   "source": [
    "correct = 0\n",
    "for i in range(np.size(solutions)):\n",
    "    if predictions[i] == solutions[i]:\n",
    "        correct = correct + 1\n",
    "        \n",
    "percent_correct = correct/np.size(solutions) * 100\n",
    "print('{} % correct'.format(percent_correct))"
   ]
  },
  {
   "cell_type": "code",
   "execution_count": null,
   "metadata": {},
   "outputs": [],
   "source": [
    "'''\n",
    "rows, columns = copy_data.shape\n",
    "copy_data = copy_data[rows-15:rows]\n",
    "ts = ts[rows-15:rows]\n",
    "\n",
    "preds = model.predict(copy_data)\n",
    "    preds = [i > .50 for i in preds]\n",
    "    predicted = []\n",
    "    for pred in preds:\n",
    "        val = pred[0]\n",
    "        predicted.append(val)\n",
    "    print(classification_report(ts,predicted))\n",
    "    print(confusion_matrix(ts,predicted))\n",
    "'''"
   ]
  },
  {
   "cell_type": "code",
   "execution_count": null,
   "metadata": {},
   "outputs": [],
   "source": []
  },
  {
   "cell_type": "markdown",
   "metadata": {},
   "source": [
    "### Conclusion: This doesn't seem to work... :("
   ]
  }
 ],
 "metadata": {
  "kernelspec": {
   "display_name": "Python 3",
   "language": "python",
   "name": "python3"
  },
  "language_info": {
   "codemirror_mode": {
    "name": "ipython",
    "version": 3
   },
   "file_extension": ".py",
   "mimetype": "text/x-python",
   "name": "python",
   "nbconvert_exporter": "python",
   "pygments_lexer": "ipython3",
   "version": "3.7.4"
  }
 },
 "nbformat": 4,
 "nbformat_minor": 2
}
