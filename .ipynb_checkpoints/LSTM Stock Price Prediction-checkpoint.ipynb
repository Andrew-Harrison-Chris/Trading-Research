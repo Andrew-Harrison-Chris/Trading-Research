{
 "cells": [
  {
   "cell_type": "code",
   "execution_count": 25,
   "metadata": {},
   "outputs": [],
   "source": [
    "import numpy as np\n",
    "import pandas as pd\n",
    "import yfinance\n",
    "import matplotlib.pyplot as plt\n",
    "%matplotlib inline"
   ]
  },
  {
   "cell_type": "code",
   "execution_count": 28,
   "metadata": {},
   "outputs": [
    {
     "name": "stdout",
     "output_type": "stream",
     "text": [
      "[*********************100%***********************]  1 of 1 completed\n",
      "(10129, 6)\n"
     ]
    },
    {
     "data": {
      "text/html": [
       "<div>\n",
       "<style scoped>\n",
       "    .dataframe tbody tr th:only-of-type {\n",
       "        vertical-align: middle;\n",
       "    }\n",
       "\n",
       "    .dataframe tbody tr th {\n",
       "        vertical-align: top;\n",
       "    }\n",
       "\n",
       "    .dataframe thead th {\n",
       "        text-align: right;\n",
       "    }\n",
       "</style>\n",
       "<table border=\"1\" class=\"dataframe\">\n",
       "  <thead>\n",
       "    <tr style=\"text-align: right;\">\n",
       "      <th></th>\n",
       "      <th>Open</th>\n",
       "      <th>High</th>\n",
       "      <th>Low</th>\n",
       "      <th>Close</th>\n",
       "      <th>Adj Close</th>\n",
       "      <th>Volume</th>\n",
       "      <th>Date</th>\n",
       "    </tr>\n",
       "    <tr>\n",
       "      <th>Date</th>\n",
       "      <th></th>\n",
       "      <th></th>\n",
       "      <th></th>\n",
       "      <th></th>\n",
       "      <th></th>\n",
       "      <th></th>\n",
       "      <th></th>\n",
       "    </tr>\n",
       "  </thead>\n",
       "  <tbody>\n",
       "    <tr>\n",
       "      <td>1980-03-17</td>\n",
       "      <td>0.0</td>\n",
       "      <td>3.302083</td>\n",
       "      <td>3.125000</td>\n",
       "      <td>3.145833</td>\n",
       "      <td>3.145833</td>\n",
       "      <td>219600</td>\n",
       "      <td>1980-03-17</td>\n",
       "    </tr>\n",
       "    <tr>\n",
       "      <td>1980-03-18</td>\n",
       "      <td>0.0</td>\n",
       "      <td>3.125000</td>\n",
       "      <td>2.937500</td>\n",
       "      <td>3.031250</td>\n",
       "      <td>3.031250</td>\n",
       "      <td>727200</td>\n",
       "      <td>1980-03-18</td>\n",
       "    </tr>\n",
       "    <tr>\n",
       "      <td>1980-03-19</td>\n",
       "      <td>0.0</td>\n",
       "      <td>3.083333</td>\n",
       "      <td>3.020833</td>\n",
       "      <td>3.041667</td>\n",
       "      <td>3.041667</td>\n",
       "      <td>295200</td>\n",
       "      <td>1980-03-19</td>\n",
       "    </tr>\n",
       "    <tr>\n",
       "      <td>1980-03-20</td>\n",
       "      <td>0.0</td>\n",
       "      <td>3.062500</td>\n",
       "      <td>3.010417</td>\n",
       "      <td>3.010417</td>\n",
       "      <td>3.010417</td>\n",
       "      <td>159600</td>\n",
       "      <td>1980-03-20</td>\n",
       "    </tr>\n",
       "    <tr>\n",
       "      <td>1980-03-21</td>\n",
       "      <td>0.0</td>\n",
       "      <td>3.020833</td>\n",
       "      <td>2.906250</td>\n",
       "      <td>2.916667</td>\n",
       "      <td>2.916667</td>\n",
       "      <td>130800</td>\n",
       "      <td>1980-03-21</td>\n",
       "    </tr>\n",
       "  </tbody>\n",
       "</table>\n",
       "</div>"
      ],
      "text/plain": [
       "            Open      High       Low     Close  Adj Close  Volume       Date\n",
       "Date                                                                        \n",
       "1980-03-17   0.0  3.302083  3.125000  3.145833   3.145833  219600 1980-03-17\n",
       "1980-03-18   0.0  3.125000  2.937500  3.031250   3.031250  727200 1980-03-18\n",
       "1980-03-19   0.0  3.083333  3.020833  3.041667   3.041667  295200 1980-03-19\n",
       "1980-03-20   0.0  3.062500  3.010417  3.010417   3.010417  159600 1980-03-20\n",
       "1980-03-21   0.0  3.020833  2.906250  2.916667   2.916667  130800 1980-03-21"
      ]
     },
     "execution_count": 28,
     "metadata": {},
     "output_type": "execute_result"
    }
   ],
   "source": [
    "data = yfinance.download('AMD')\n",
    "print(data.shape)\n",
    "data['Date'] = data.index\n",
    "data.head()"
   ]
  },
  {
   "cell_type": "code",
   "execution_count": 29,
   "metadata": {},
   "outputs": [
    {
     "data": {
      "text/plain": [
       "<matplotlib.axes._subplots.AxesSubplot at 0x14ad1c350>"
      ]
     },
     "execution_count": 29,
     "metadata": {},
     "output_type": "execute_result"
    },
    {
     "data": {
      "image/png": "[encoded data removed]",
      "text/plain": [
       "<Figure size 432x288 with 1 Axes>"
      ]
     },
     "metadata": {
      "needs_background": "light"
     },
     "output_type": "display_data"
    }
   ],
   "source": [
    "data['Adj Close'].plot()"
   ]
  },
  {
   "cell_type": "code",
   "execution_count": 30,
   "metadata": {},
   "outputs": [
    {
     "name": "stdout",
     "output_type": "stream",
     "text": [
      "Epoch 1/10\n",
      " - 6s - loss: 0.0021\n",
      "Epoch 2/10\n",
      " - 6s - loss: 4.0274e-04\n",
      "Epoch 3/10\n",
      " - 6s - loss: 3.2811e-04\n",
      "Epoch 4/10\n",
      " - 6s - loss: 2.9575e-04\n",
      "Epoch 5/10\n",
      " - 6s - loss: 2.7289e-04\n",
      "Epoch 6/10\n",
      " - 6s - loss: 2.6085e-04\n",
      "Epoch 7/10\n",
      " - 6s - loss: 2.3615e-04\n",
      "Epoch 8/10\n",
      " - 7s - loss: 2.2873e-04\n",
      "Epoch 9/10\n",
      " - 6s - loss: 2.0057e-04\n",
      "Epoch 10/10\n",
      " - 7s - loss: 1.9334e-04\n"
     ]
    }
   ],
   "source": [
    "#importing required libraries\n",
    "from sklearn.preprocessing import MinMaxScaler\n",
    "from keras.models import Sequential\n",
    "from keras.layers import Dense, Dropout, LSTM\n",
    "\n",
    "#creating dataframe\n",
    "data = data.sort_index(ascending=True, axis=0)\n",
    "new_data = pd.DataFrame(index=range(0,len(data)),columns=['Date', 'Close'])\n",
    "for i in range(0,len(data)):\n",
    "    new_data['Date'][i] = data['Date'][i]\n",
    "    new_data['Close'][i] = data['Close'][i]\n",
    "\n",
    "#setting index\n",
    "new_data.index = new_data.Date\n",
    "new_data.drop('Date', axis=1, inplace=True)\n",
    "\n",
    "#creating train and test sets\n",
    "dataset = new_data.values\n",
    "\n",
    "train = dataset[0:10000,:]\n",
    "valid = dataset[10000:,:]\n",
    "\n",
    "#converting dataset into x_train and y_train\n",
    "scaler = MinMaxScaler(feature_range=(0, 1))\n",
    "scaled_data = scaler.fit_transform(dataset)\n",
    "\n",
    "x_train, y_train = [], []\n",
    "for i in range(60,len(train)):\n",
    "    x_train.append(scaled_data[i-60:i,0])\n",
    "    y_train.append(scaled_data[i,0])\n",
    "x_train, y_train = np.array(x_train), np.array(y_train)\n",
    "\n",
    "x_train = np.reshape(x_train, (x_train.shape[0],x_train.shape[1],1))\n",
    "\n",
    "# create and fit the LSTM network\n",
    "model = Sequential()\n",
    "model.add(LSTM(units=50, return_sequences=True, input_shape=(x_train.shape[1],1)))\n",
    "model.add(LSTM(units=50))\n",
    "model.add(Dense(1))\n",
    "\n",
    "model.compile(loss='mean_squared_error', optimizer='adam')\n",
    "model.fit(x_train, y_train, epochs=10, batch_size=100, verbose=2)\n",
    "\n",
    "#predicting 246 values, using past 60 from the train data\n",
    "inputs = new_data[len(new_data) - len(valid) - 60:].values\n",
    "inputs = inputs.reshape(-1,1)\n",
    "inputs  = scaler.transform(inputs)\n",
    "\n",
    "X_test = []\n",
    "for i in range(60,inputs.shape[0]):\n",
    "    X_test.append(inputs[i-60:i,0])\n",
    "X_test = np.array(X_test)\n",
    "\n",
    "X_test = np.reshape(X_test, (X_test.shape[0],X_test.shape[1],1))\n",
    "closing_price = model.predict(X_test)\n",
    "closing_price = scaler.inverse_transform(closing_price)"
   ]
  },
  {
   "cell_type": "code",
   "execution_count": 31,
   "metadata": {},
   "outputs": [
    {
     "data": {
      "text/plain": [
       "2.342641569856556"
      ]
     },
     "execution_count": 31,
     "metadata": {},
     "output_type": "execute_result"
    }
   ],
   "source": [
    "rms=np.sqrt(np.mean(np.power((valid-closing_price),2)))\n",
    "rms"
   ]
  },
  {
   "cell_type": "code",
   "execution_count": 32,
   "metadata": {},
   "outputs": [
    {
     "name": "stderr",
     "output_type": "stream",
     "text": [
      "/Users/HarrisonHoffman/opt/anaconda3/lib/python3.7/site-packages/ipykernel_launcher.py:4: SettingWithCopyWarning: \n",
      "A value is trying to be set on a copy of a slice from a DataFrame.\n",
      "Try using .loc[row_indexer,col_indexer] = value instead\n",
      "\n",
      "See the caveats in the documentation: http://pandas.pydata.org/pandas-docs/stable/user_guide/indexing.html#returning-a-view-versus-a-copy\n",
      "  after removing the cwd from sys.path.\n"
     ]
    },
    {
     "data": {
      "text/plain": [
       "[<matplotlib.lines.Line2D at 0x14b213390>,\n",
       " <matplotlib.lines.Line2D at 0x14bc08750>]"
      ]
     },
     "execution_count": 32,
     "metadata": {},
     "output_type": "execute_result"
    },
    {
     "data": {
      "image/png": "[encoded data removed]",
      "text/plain": [
       "<Figure size 432x288 with 1 Axes>"
      ]
     },
     "metadata": {
      "needs_background": "light"
     },
     "output_type": "display_data"
    }
   ],
   "source": [
    "#for plotting\n",
    "train = new_data[:10000]\n",
    "valid = new_data[10000:]\n",
    "valid['Predictions'] = closing_price\n",
    "#plt.plot(train['Close'])\n",
    "plt.plot(valid[['Close','Predictions']])"
   ]
  },
  {
   "cell_type": "code",
   "execution_count": 33,
   "metadata": {},
   "outputs": [
    {
     "data": {
      "text/plain": [
       "array([[0.51606144],\n",
       "       [0.52129886],\n",
       "       [0.5080307 ],\n",
       "       [0.52513966],\n",
       "       [0.52863126],\n",
       "       [0.48743017],\n",
       "       [0.50034916],\n",
       "       [0.49895251],\n",
       "       [0.50907821],\n",
       "       [0.52077514],\n",
       "       [0.52077514],\n",
       "       [0.51117316],\n",
       "       [0.51204609],\n",
       "       [0.52164803],\n",
       "       [0.50523741],\n",
       "       [0.50418993],\n",
       "       [0.49947624],\n",
       "       [0.49127094],\n",
       "       [0.49912707],\n",
       "       [0.50750698],\n",
       "       [0.5099511 ],\n",
       "       [0.5127444 ],\n",
       "       [0.50279328],\n",
       "       [0.50052375],\n",
       "       [0.49633377],\n",
       "       [0.50663405],\n",
       "       [0.487081  ],\n",
       "       [0.48743017],\n",
       "       [0.48620808],\n",
       "       [0.4731145 ],\n",
       "       [0.4778282 ],\n",
       "       [0.47381284],\n",
       "       [0.46595668],\n",
       "       [0.47241619],\n",
       "       [0.47817737],\n",
       "       [0.47678072],\n",
       "       [0.46456004],\n",
       "       [0.46857539],\n",
       "       [0.46717874],\n",
       "       [0.49109636],\n",
       "       [0.50471369],\n",
       "       [0.5080307 ],\n",
       "       [0.50960193],\n",
       "       [0.5153631 ],\n",
       "       [0.51239523],\n",
       "       [0.5309008 ],\n",
       "       [0.52182262],\n",
       "       [0.51920391],\n",
       "       [0.5254888 ],\n",
       "       [0.54277232],\n",
       "       [0.55988125],\n",
       "       [0.5483589 ],\n",
       "       [0.55010475],\n",
       "       [0.56407122],\n",
       "       [0.58083098],\n",
       "       [0.60527235],\n",
       "       [0.60282822],\n",
       "       [0.59898742],\n",
       "       [0.60509773],\n",
       "       [0.60527235],\n",
       "       [0.60562152],\n",
       "       [0.61260472],\n",
       "       [0.6267458 ],\n",
       "       [0.64123599],\n",
       "       [0.64490224],\n",
       "       [0.66794693],\n",
       "       [0.69256285],\n",
       "       [0.68715081],\n",
       "       [0.661662  ],\n",
       "       [0.65520252],\n",
       "       [0.6663757 ],\n",
       "       [0.65240923],\n",
       "       [0.6597416 ],\n",
       "       [0.65520252],\n",
       "       [0.64787009],\n",
       "       [0.650838  ],\n",
       "       [0.66462985],\n",
       "       [0.66340778],\n",
       "       [0.6635824 ],\n",
       "       [0.65136172],\n",
       "       [0.66026532],\n",
       "       [0.66078911],\n",
       "       [0.71525836],\n",
       "       [0.69011872],\n",
       "       [0.71106839],\n",
       "       [0.71840083],\n",
       "       [0.7101955 ],\n",
       "       [0.71944834],\n",
       "       [0.74249302],\n",
       "       [0.76536309],\n",
       "       [0.78421787],\n",
       "       [0.7857891 ],\n",
       "       [0.77793295],\n",
       "       [0.7664106 ],\n",
       "       [0.77234636],\n",
       "       [0.82891057],\n",
       "       [0.82018152],\n",
       "       [0.81651533],\n",
       "       [0.81407121],\n",
       "       [0.80673884],\n",
       "       [0.82664106],\n",
       "       [0.81267453],\n",
       "       [0.82280026],\n",
       "       [0.81337287],\n",
       "       [0.81930862],\n",
       "       [0.84060753],\n",
       "       [0.86085892],\n",
       "       [0.86295387],\n",
       "       [0.86958797],\n",
       "       [0.87447622],\n",
       "       [0.85073319],\n",
       "       [0.83170386],\n",
       "       [0.85387565],\n",
       "       [0.80115218],\n",
       "       [0.82332398],\n",
       "       [0.79224858],\n",
       "       [0.81005585],\n",
       "       [0.83502094],\n",
       "       [0.84182959],\n",
       "       [0.83275137],\n",
       "       [0.83990919],\n",
       "       [0.88407816],\n",
       "       [0.91096365],\n",
       "       [0.91253488],\n",
       "       [0.92370805],\n",
       "       [0.93732542],\n",
       "       [0.96490918],\n",
       "       [1.        ],\n",
       "       [0.97154328],\n",
       "       [0.90188543],\n",
       "       [0.82925974],\n",
       "       [0.80219969],\n",
       "       [0.80080308],\n",
       "       [0.74004883],\n",
       "       [0.76571226],\n",
       "       [0.80027929],\n",
       "       [0.78788406],\n",
       "       [0.84654328],\n",
       "       [0.81162708],\n",
       "       [0.82000696],\n",
       "       [0.72712988],\n",
       "       [0.76396648],\n",
       "       [0.76955307],\n",
       "       [0.65275833],\n",
       "       [0.7381285 ],\n",
       "       [0.64752092],\n",
       "       [0.70286313],\n",
       "       [0.65467873],\n",
       "       [0.66689942],\n",
       "       [0.66323323],\n",
       "       [0.69867316],\n",
       "       [0.77863129],\n",
       "       [0.7508729 ],\n",
       "       [0.80097763],\n",
       "       [0.78491621],\n",
       "       [0.80726256],\n",
       "       [0.76571226],\n",
       "       [0.73393853],\n",
       "       [0.74842878],\n",
       "       [0.71525836],\n",
       "       [0.8013268 ],\n",
       "       [0.80202514],\n",
       "       [0.8234986 ],\n",
       "       [0.81634078],\n",
       "       [0.86103347],\n",
       "       [0.93069132],\n",
       "       [0.93173883],\n",
       "       [0.96595669],\n",
       "       [0.95984632],\n",
       "       [0.96630586],\n",
       "       [0.8956005 ],\n",
       "       [0.9479748 ],\n",
       "       [0.9476257 ],\n",
       "       [0.95251395],\n",
       "       [0.95792598],\n",
       "       [0.94081698],\n",
       "       [0.90851953],\n",
       "       [0.88634773],\n",
       "       [0.84252793],\n",
       "       [0.88931564],\n",
       "       [0.8828561 ],\n",
       "       [0.88233238],\n",
       "       [0.87866619],\n",
       "       [0.9003142 ],\n",
       "       [0.94483241],\n",
       "       [0.91026531],\n",
       "       [0.88268155],\n",
       "       [0.92335888],\n",
       "       [0.91794692]])"
      ]
     },
     "execution_count": 33,
     "metadata": {},
     "output_type": "execute_result"
    }
   ],
   "source": [
    "inputs"
   ]
  },
  {
   "cell_type": "code",
   "execution_count": 35,
   "metadata": {},
   "outputs": [
    {
     "data": {
      "text/plain": [
       "(129, 60, 1)"
      ]
     },
     "execution_count": 35,
     "metadata": {},
     "output_type": "execute_result"
    }
   ],
   "source": [
    "X_test.shape"
   ]
  },
  {
   "cell_type": "code",
   "execution_count": null,
   "metadata": {},
   "outputs": [],
   "source": []
  }
 ],
 "metadata": {
  "kernelspec": {
   "display_name": "Python 3",
   "language": "python",
   "name": "python3"
  },
  "language_info": {
   "codemirror_mode": {
    "name": "ipython",
    "version": 3
   },
   "file_extension": ".py",
   "mimetype": "text/x-python",
   "name": "python",
   "nbconvert_exporter": "python",
   "pygments_lexer": "ipython3",
   "version": "3.7.4"
  }
 },
 "nbformat": 4,
 "nbformat_minor": 2
}
