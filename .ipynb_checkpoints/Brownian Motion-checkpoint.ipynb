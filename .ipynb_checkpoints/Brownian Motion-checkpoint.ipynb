{
 "cells": [
  {
   "cell_type": "code",
   "execution_count": 1,
   "metadata": {},
   "outputs": [],
   "source": [
    "import numpy as np\n",
    "import pandas as pd\n",
    "import yfinance as yf\n",
    "import matplotlib.pyplot as plt\n",
    "%matplotlib inline"
   ]
  },
  {
   "cell_type": "markdown",
   "metadata": {},
   "source": [
    "#### Random Walks\n",
    "- Random walks follow an additive law:\n",
    "\n",
    "$X_n = X_{n-1} + \\epsilon_{n} , P[\\epsilon_n = \\pm 1]= .5$\n",
    "\n",
    "#### Example \n",
    "\n",
    "$X_t = 2X_{t-1}, X_0 = 1$\n",
    "\n",
    "$Y_t = Y_{t-1} + 2, Y_t = 0$"
   ]
  },
  {
   "cell_type": "code",
   "execution_count": 2,
   "metadata": {},
   "outputs": [],
   "source": [
    "def process_1(t):\n",
    "    values = []\n",
    "    x = 1\n",
    "    values.append(x)\n",
    "    for _ in range(t):\n",
    "        x = 2*x\n",
    "        values.append(x)\n",
    "    return values"
   ]
  },
  {
   "cell_type": "code",
   "execution_count": 11,
   "metadata": {},
   "outputs": [
    {
     "data": {
      "text/plain": [
       "Text(0.5, 1.0, '$X_t = 2X_{t-1}, X_0 = 1$')"
      ]
     },
     "execution_count": 11,
     "metadata": {},
     "output_type": "execute_result"
    },
    {
     "data": {
      "image/png": "[encoded data removed]",
      "text/plain": [
       "<Figure size 432x288 with 1 Axes>"
      ]
     },
     "metadata": {
      "needs_background": "light"
     },
     "output_type": "display_data"
    }
   ],
   "source": [
    "# Multiplicative process\n",
    "mult_process = process_1(5)\n",
    "plt.plot(range(6),mult_process)\n",
    "plt.xlabel('t')\n",
    "plt.ylabel('$x_t$')\n",
    "plt.title('$X_t = 2X_{t-1}, X_0 = 1$')"
   ]
  },
  {
   "cell_type": "markdown",
   "metadata": {},
   "source": [
    "### Geometric Brownian Motion\n",
    "$G_t = G_0e^{\\mu t + \\sigma W_t}$"
   ]
  },
  {
   "cell_type": "code",
   "execution_count": 12,
   "metadata": {},
   "outputs": [],
   "source": [
    "def brownian_motion(N, T, h):\n",
    "    \"\"\"\n",
    "    Simulates a Brownian motion\n",
    "    :param int N : the number of discrete steps\n",
    "    :param int T: the number of continuous time steps\n",
    "    :param float h: the variance of the increments\n",
    "    \"\"\"   \n",
    "    dt = 1. * T/N  # the normalizing constant\n",
    "    random_increments = np.random.normal(0.0, 1.0 * h, N)*np.sqrt(dt)  # the epsilon values\n",
    "    brownian_motion = np.cumsum(random_increments)  # calculate the brownian motion\n",
    "    brownian_motion = np.insert(brownian_motion, 0, 0.0) # insert the initial condition\n",
    "    \n",
    "    return brownian_motion, random_increments\n",
    "\n",
    "\n",
    "def geometric_brownian_motion(G0, mu, sigma, N, T):\n",
    "    \"\"\"Simulates a Geometric Brownian Motion.\n",
    "    \n",
    "    :param float G0: initial value\n",
    "    :param float mu: drift coefficient\n",
    "    :param float sigma: diffusion coefficient\n",
    "    :param int N: number of discrete steps\n",
    "    :param int T: number of continuous time steps\n",
    "    :return list: the geometric Brownian Motion\n",
    "    \"\"\"\n",
    "    # the normalizing constant\n",
    "    dt = 1. * T/N\n",
    "    # standard brownian motion\n",
    "    W, _ = brownian_motion(N, T ,1.0)\n",
    "    # generate the time steps\n",
    "    time_steps = np.linspace(0.0, N*dt, N+1)\n",
    "    \n",
    "    # calculate the geometric brownian motion\n",
    "    G = G0 * np.exp(mu * time_steps + sigma * W)\n",
    "    # replace the initial value\n",
    "    G[0] = G0\n",
    "    \n",
    "    return G\n",
    "\n",
    "def gbm_mean(G0, mu, sigma, N, T):\n",
    "    \"\"\"Simulates the mean of the Geometric Brownian Motion, which is:\n",
    "        E(t) = G0*e^{(mu + sigma^{2}/2)*t}\n",
    "        \n",
    "    :param float G0: initial value\n",
    "    :param float mu: drift coefficient\n",
    "    :param float sigma: diffusion coefficient\n",
    "    :param int N: number of discrete steps\n",
    "    :param int T: number of continuous time steps\n",
    "    \"\"\"\n",
    "    # generate the time steps\n",
    "    t = np.linspace(0.0, T, N+1)\n",
    "    # calculate the mean\n",
    "    E = G0 * np.exp((mu + 0.5*sigma**2)*t)\n",
    "    \n",
    "    return E\n",
    "  \n",
    "def gbm_var(G0, mu, sigma, N, T):\n",
    "    \"\"\"Simulates the variance of the Geometric Brownian Motion, which is:\n",
    "        Var(t) = G0^2 * e^{(2*mu + sigma^{2})*t} * (e^{sigma^{2}*t} - 1)\n",
    " \n",
    "    :param float G0: initial value\n",
    "    :param float mu: drift coefficient\n",
    "    :param float sigma: diffusion coefficient\n",
    "    :param int N: number of discrete steps\n",
    "    :param int T: number of continuous time steps\n",
    "    \"\"\"\n",
    "    # generate the time steps\n",
    "    t = np.linspace(0.0, T, N+1)\n",
    "    # calculate the variance\n",
    "    V = G0**2 * np.exp(t * (2*mu + sigma**2)) * (np.exp(t * sigma**2) - 1)\n",
    "    \n",
    "    return V"
   ]
  },
  {
   "cell_type": "code",
   "execution_count": 15,
   "metadata": {},
   "outputs": [
    {
     "name": "stdout",
     "output_type": "stream",
     "text": [
      "[*********************100%***********************]  1 of 1 completed\n",
      "(390, 6)\n"
     ]
    },
    {
     "data": {
      "text/html": [
       "<div>\n",
       "<style scoped>\n",
       "    .dataframe tbody tr th:only-of-type {\n",
       "        vertical-align: middle;\n",
       "    }\n",
       "\n",
       "    .dataframe tbody tr th {\n",
       "        vertical-align: top;\n",
       "    }\n",
       "\n",
       "    .dataframe thead th {\n",
       "        text-align: right;\n",
       "    }\n",
       "</style>\n",
       "<table border=\"1\" class=\"dataframe\">\n",
       "  <thead>\n",
       "    <tr style=\"text-align: right;\">\n",
       "      <th></th>\n",
       "      <th>Open</th>\n",
       "      <th>High</th>\n",
       "      <th>Low</th>\n",
       "      <th>Close</th>\n",
       "      <th>Adj Close</th>\n",
       "      <th>Volume</th>\n",
       "    </tr>\n",
       "    <tr>\n",
       "      <th>Datetime</th>\n",
       "      <th></th>\n",
       "      <th></th>\n",
       "      <th></th>\n",
       "      <th></th>\n",
       "      <th></th>\n",
       "      <th></th>\n",
       "    </tr>\n",
       "  </thead>\n",
       "  <tbody>\n",
       "    <tr>\n",
       "      <td>2020-05-01 09:30:00-04:00</td>\n",
       "      <td>51.070000</td>\n",
       "      <td>51.950001</td>\n",
       "      <td>50.799999</td>\n",
       "      <td>51.375000</td>\n",
       "      <td>51.375000</td>\n",
       "      <td>5638898</td>\n",
       "    </tr>\n",
       "    <tr>\n",
       "      <td>2020-05-01 09:45:00-04:00</td>\n",
       "      <td>51.367199</td>\n",
       "      <td>51.529999</td>\n",
       "      <td>50.880001</td>\n",
       "      <td>51.139999</td>\n",
       "      <td>51.139999</td>\n",
       "      <td>3470184</td>\n",
       "    </tr>\n",
       "    <tr>\n",
       "      <td>2020-05-01 10:00:00-04:00</td>\n",
       "      <td>51.209999</td>\n",
       "      <td>51.400002</td>\n",
       "      <td>50.520000</td>\n",
       "      <td>50.717999</td>\n",
       "      <td>50.717999</td>\n",
       "      <td>3577724</td>\n",
       "    </tr>\n",
       "    <tr>\n",
       "      <td>2020-05-01 10:15:00-04:00</td>\n",
       "      <td>50.719898</td>\n",
       "      <td>50.790001</td>\n",
       "      <td>50.169998</td>\n",
       "      <td>50.349998</td>\n",
       "      <td>50.349998</td>\n",
       "      <td>4015246</td>\n",
       "    </tr>\n",
       "    <tr>\n",
       "      <td>2020-05-01 10:30:00-04:00</td>\n",
       "      <td>50.345001</td>\n",
       "      <td>50.349998</td>\n",
       "      <td>49.730000</td>\n",
       "      <td>49.980000</td>\n",
       "      <td>49.980000</td>\n",
       "      <td>4871963</td>\n",
       "    </tr>\n",
       "  </tbody>\n",
       "</table>\n",
       "</div>"
      ],
      "text/plain": [
       "                                Open       High        Low      Close  \\\n",
       "Datetime                                                                \n",
       "2020-05-01 09:30:00-04:00  51.070000  51.950001  50.799999  51.375000   \n",
       "2020-05-01 09:45:00-04:00  51.367199  51.529999  50.880001  51.139999   \n",
       "2020-05-01 10:00:00-04:00  51.209999  51.400002  50.520000  50.717999   \n",
       "2020-05-01 10:15:00-04:00  50.719898  50.790001  50.169998  50.349998   \n",
       "2020-05-01 10:30:00-04:00  50.345001  50.349998  49.730000  49.980000   \n",
       "\n",
       "                           Adj Close   Volume  \n",
       "Datetime                                       \n",
       "2020-05-01 09:30:00-04:00  51.375000  5638898  \n",
       "2020-05-01 09:45:00-04:00  51.139999  3470184  \n",
       "2020-05-01 10:00:00-04:00  50.717999  3577724  \n",
       "2020-05-01 10:15:00-04:00  50.349998  4015246  \n",
       "2020-05-01 10:30:00-04:00  49.980000  4871963  "
      ]
     },
     "execution_count": 15,
     "metadata": {},
     "output_type": "execute_result"
    }
   ],
   "source": [
    "data = yf.download(\"AMD\",start='2020-05-01',end = '2020-05-22',interval='15m')\n",
    "print(data.shape)\n",
    "data.head()"
   ]
  },
  {
   "cell_type": "code",
   "execution_count": 20,
   "metadata": {},
   "outputs": [
    {
     "name": "stderr",
     "output_type": "stream",
     "text": [
      "/Users/HarrisonHoffman/opt/anaconda3/lib/python3.7/site-packages/ipykernel_launcher.py:34: RuntimeWarning: overflow encountered in exp\n"
     ]
    }
   ],
   "source": [
    "data_first = data.head(round(data.shape[0]*.5))\n",
    "data_second = data.tail(round(data.shape[0]*.5))\n",
    "gbm = geometric_brownian_motion(data_first['Close'][-1],mu=data_first['Close'].mean(),\n",
    "                                sigma=data_first['Close'].std(),\n",
    "                                N=,T=data_second.shape[0])"
   ]
  },
  {
   "cell_type": "code",
   "execution_count": 21,
   "metadata": {},
   "outputs": [
    {
     "data": {
      "text/plain": [
       "array([5.58997993e+001, 3.70212306e+024, 9.06181069e+047, 2.69107543e+070,\n",
       "       6.53159817e+092, 1.32503479e+114, 3.51617260e+135, 7.37763980e+157,\n",
       "       1.30151541e+180, 5.21009866e+203, 7.64710021e+226, 1.78912622e+249,\n",
       "       6.85011269e+272, 7.62574182e+295,             inf,             inf,\n",
       "                   inf,             inf,             inf,             inf,\n",
       "                   inf,             inf,             inf,             inf,\n",
       "                   inf,             inf,             inf,             inf,\n",
       "                   inf,             inf,             inf,             inf,\n",
       "                   inf,             inf,             inf,             inf,\n",
       "                   inf,             inf,             inf,             inf,\n",
       "                   inf,             inf,             inf,             inf,\n",
       "                   inf,             inf,             inf,             inf,\n",
       "                   inf,             inf,             inf,             inf,\n",
       "                   inf,             inf,             inf,             inf,\n",
       "                   inf,             inf,             inf,             inf,\n",
       "                   inf,             inf,             inf,             inf,\n",
       "                   inf,             inf,             inf,             inf,\n",
       "                   inf,             inf,             inf,             inf,\n",
       "                   inf,             inf,             inf,             inf,\n",
       "                   inf,             inf,             inf,             inf,\n",
       "                   inf,             inf,             inf,             inf,\n",
       "                   inf,             inf,             inf,             inf,\n",
       "                   inf,             inf,             inf,             inf,\n",
       "                   inf,             inf,             inf,             inf,\n",
       "                   inf,             inf,             inf,             inf,\n",
       "                   inf,             inf,             inf,             inf,\n",
       "                   inf,             inf,             inf,             inf,\n",
       "                   inf,             inf,             inf,             inf,\n",
       "                   inf,             inf,             inf,             inf,\n",
       "                   inf,             inf,             inf,             inf,\n",
       "                   inf,             inf,             inf,             inf,\n",
       "                   inf,             inf,             inf,             inf,\n",
       "                   inf,             inf,             inf,             inf,\n",
       "                   inf,             inf,             inf,             inf,\n",
       "                   inf,             inf,             inf,             inf,\n",
       "                   inf,             inf,             inf,             inf,\n",
       "                   inf,             inf,             inf,             inf,\n",
       "                   inf,             inf,             inf,             inf,\n",
       "                   inf,             inf,             inf,             inf,\n",
       "                   inf,             inf,             inf,             inf,\n",
       "                   inf,             inf,             inf,             inf,\n",
       "                   inf,             inf,             inf,             inf,\n",
       "                   inf,             inf,             inf,             inf,\n",
       "                   inf,             inf,             inf,             inf,\n",
       "                   inf,             inf,             inf,             inf,\n",
       "                   inf,             inf,             inf,             inf,\n",
       "                   inf,             inf,             inf,             inf,\n",
       "                   inf,             inf,             inf,             inf,\n",
       "                   inf,             inf,             inf,             inf])"
      ]
     },
     "execution_count": 21,
     "metadata": {},
     "output_type": "execute_result"
    }
   ],
   "source": [
    "gbm"
   ]
  },
  {
   "cell_type": "code",
   "execution_count": null,
   "metadata": {},
   "outputs": [],
   "source": []
  }
 ],
 "metadata": {
  "kernelspec": {
   "display_name": "Python 3",
   "language": "python",
   "name": "python3"
  },
  "language_info": {
   "codemirror_mode": {
    "name": "ipython",
    "version": 3
   },
   "file_extension": ".py",
   "mimetype": "text/x-python",
   "name": "python",
   "nbconvert_exporter": "python",
   "pygments_lexer": "ipython3",
   "version": "3.7.4"
  }
 },
 "nbformat": 4,
 "nbformat_minor": 2
}
