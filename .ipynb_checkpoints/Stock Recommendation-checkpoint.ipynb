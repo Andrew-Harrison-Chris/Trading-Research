{
 "cells": [
  {
   "cell_type": "markdown",
   "metadata": {},
   "source": [
    "##### Lets research strategies and aggregate their results"
   ]
  },
  {
   "cell_type": "code",
   "execution_count": 43,
   "metadata": {},
   "outputs": [],
   "source": [
    "import numpy as np\n",
    "import pandas as pd\n",
    "import matplotlib.pyplot as plt\n",
    "import ta\n",
    "import plotly_express as px\n",
    "import plotly.graph_objects as go\n",
    "import yfinance as yf\n",
    "from yahoo_fin import stock_info as si \n",
    "from pandas_datareader import DataReader\n",
    "import requests\n",
    "%matplotlib inline"
   ]
  },
  {
   "cell_type": "markdown",
   "metadata": {},
   "source": [
    "- Please double check me on these and lmk if they're wrong\n",
    "\n",
    "### RSI Strategy\n",
    "If RSI crosses above 30: buy. If RSI crosses below 70: sell\n",
    "\n",
    "### CCI Strategy\n",
    "If CCI crosses above -100: buy. If CCI crosses below 100: sell\n",
    "\n",
    "### Yahoo Finance Rating\n",
    "1-2: Buy\n",
    "2-3: Hold\n",
    "3-5: Sell"
   ]
  },
  {
   "cell_type": "code",
   "execution_count": 53,
   "metadata": {},
   "outputs": [],
   "source": [
    "# A class containing all of the stock indicators we can think of and their aggregate ratings (the score)\n",
    "class StockScore:\n",
    "    # Constructor to download stock data from yf\n",
    "    def __init__(self,stock):\n",
    "        self.stock = stock\n",
    "        self.data = yf.download(stock)\n",
    "        self.ratings = []\n",
    "        # Calculate technical indicators\n",
    "        self.data = ta.add_all_ta_features(self.data,open='Open',high='High',low='Low',\n",
    "                                           close='Close',volume='Volume',fillna=True)\n",
    "    # Rsi buy/sell signal\n",
    "    def rsi_signal(self):\n",
    "        rsi = self.data['momentum_rsi']\n",
    "        if rsi[-1] > 30 and rsi[-3] < 30:\n",
    "            self.ratings.append(1)\n",
    "            print(\"RSI:Buy\")\n",
    "        elif rsi[-1] < 70  and rsi[-3] > 70:\n",
    "            self.ratings.append(0)\n",
    "            print(\"RSI:Sell\")\n",
    "        else:\n",
    "            self.ratings.append(.5)\n",
    "            print(\"RSI:Hold\")\n",
    "            \n",
    "    # CCI buy/sell signal\n",
    "    def cci_signal(self):\n",
    "        cci = self.data['trend_cci']\n",
    "        if (cci[-1] > -100 and cci[-1] < -50) and cci[-5] < -100:\n",
    "            self.ratings.append(1)\n",
    "            print(\"CCI:Buy\")\n",
    "        elif cci[-1] < 100 and cci[-5] > 100:\n",
    "            self.ratings.append(0)\n",
    "            print(\"CCI:Sell\")\n",
    "        else:\n",
    "            self.ratings.append(.5)\n",
    "            print(\"CCI:Hold\")\n",
    "    # Yahoo finance analyst rating\n",
    "    def yf_rating(self):\n",
    "        lhs_url = 'https://query2.finance.yahoo.com/v10/finance/quoteSummary/'\n",
    "        rhs_url = '?formatted=true&crumb=swg7qs5y9UP&lang=en-US&region=US&' \\\n",
    "                  'modules=upgradeDowngradeHistory,recommendationTrend,' \\\n",
    "                  'financialData,earningsHistory,earningsTrend,industryTrend&' \\\n",
    "                  'corsDomain=finance.yahoo.com'\n",
    "\n",
    "        url =  lhs_url + self.stock + rhs_url\n",
    "        r = requests.get(url)\n",
    "        if not r.ok:\n",
    "            recommendation = 6\n",
    "        try:\n",
    "            result = r.json()['quoteSummary']['result'][0]\n",
    "            recommendation =result['financialData']['recommendationMean']['fmt']\n",
    "        except:\n",
    "            recommendation = 6\n",
    "\n",
    "        recommendation = float(recommendation)\n",
    "        print (f\"{self.stock} Yahoo Finance Analyst Rating:{recommendation}\")\n",
    "        \n",
    "        # Scoring\n",
    "        if recommendation >= 1 and recommendation < 2:\n",
    "            self.ratings.append(1)\n",
    "            print(\"YF Rating:Buy\")\n",
    "        elif recommendation >=2 and recommendation < 3:\n",
    "            self.ratings.append(.5)\n",
    "            print(\"YF Rating:Hold\")\n",
    "        else:\n",
    "            self.ratings.append(0)\n",
    "            print(\"YF Rating:Sell\")\n",
    "    \n",
    "        \n",
    "    # Stock score\n",
    "    def score(self):\n",
    "        # Run functions\n",
    "        self.cci_signal()\n",
    "        self.rsi_signal()\n",
    "        self.yf_rating()\n",
    "        return np.mean(self.ratings)"
   ]
  },
  {
   "cell_type": "code",
   "execution_count": 72,
   "metadata": {},
   "outputs": [
    {
     "name": "stdout",
     "output_type": "stream",
     "text": [
      "[*********************100%***********************]  1 of 1 completed\n"
     ]
    },
    {
     "name": "stderr",
     "output_type": "stream",
     "text": [
      "/Users/HarrisonHoffman/opt/anaconda3/lib/python3.7/site-packages/ta/trend.py:543: RuntimeWarning:\n",
      "\n",
      "invalid value encountered in double_scalars\n",
      "\n",
      "/Users/HarrisonHoffman/opt/anaconda3/lib/python3.7/site-packages/ta/trend.py:547: RuntimeWarning:\n",
      "\n",
      "invalid value encountered in double_scalars\n",
      "\n"
     ]
    },
    {
     "name": "stdout",
     "output_type": "stream",
     "text": [
      "[*********************100%***********************]  1 of 1 completed\n"
     ]
    }
   ],
   "source": [
    "stock1 = StockScore('CRK')\n",
    "stock2 = StockScore('SIRI')"
   ]
  },
  {
   "cell_type": "code",
   "execution_count": 74,
   "metadata": {},
   "outputs": [
    {
     "name": "stdout",
     "output_type": "stream",
     "text": [
      "CCI:Buy\n",
      "RSI:Hold\n",
      "CRK Yahoo Finance Analyst Rating:2.2\n",
      "YF Rating:Hold\n"
     ]
    },
    {
     "data": {
      "text/plain": [
       "0.6666666666666666"
      ]
     },
     "execution_count": 74,
     "metadata": {},
     "output_type": "execute_result"
    }
   ],
   "source": [
    "stock1.score()"
   ]
  },
  {
   "cell_type": "code",
   "execution_count": 75,
   "metadata": {},
   "outputs": [
    {
     "name": "stdout",
     "output_type": "stream",
     "text": [
      "CCI:Hold\n",
      "RSI:Hold\n",
      "SIRI Yahoo Finance Analyst Rating:2.3\n",
      "YF Rating:Hold\n"
     ]
    },
    {
     "data": {
      "text/plain": [
       "0.5"
      ]
     },
     "execution_count": 75,
     "metadata": {},
     "output_type": "execute_result"
    }
   ],
   "source": [
    "stock2.score()"
   ]
  },
  {
   "cell_type": "code",
   "execution_count": null,
   "metadata": {},
   "outputs": [],
   "source": []
  }
 ],
 "metadata": {
  "kernelspec": {
   "display_name": "Python 3",
   "language": "python",
   "name": "python3"
  },
  "language_info": {
   "codemirror_mode": {
    "name": "ipython",
    "version": 3
   },
   "file_extension": ".py",
   "mimetype": "text/x-python",
   "name": "python",
   "nbconvert_exporter": "python",
   "pygments_lexer": "ipython3",
   "version": "3.7.4"
  }
 },
 "nbformat": 4,
 "nbformat_minor": 2
}
