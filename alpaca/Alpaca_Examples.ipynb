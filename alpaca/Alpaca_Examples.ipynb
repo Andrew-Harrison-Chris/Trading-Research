{
 "cells": [
  {
   "cell_type": "markdown",
   "metadata": {},
   "source": [
    "### A list of tasks we can do with alpaca"
   ]
  },
  {
   "cell_type": "code",
   "execution_count": 3,
   "metadata": {},
   "outputs": [],
   "source": [
    "import alpaca_trade_api as tradeapi\n",
    "from secret import SECRET, API_KEY, Endpoint"
   ]
  },
  {
   "cell_type": "code",
   "execution_count": 4,
   "metadata": {},
   "outputs": [],
   "source": [
    "api = tradeapi.REST(API_KEY, SECRET,Endpoint)\n",
    "account = api.get_account()"
   ]
  },
  {
   "cell_type": "markdown",
   "metadata": {},
   "source": [
    "### Check Balance"
   ]
  },
  {
   "cell_type": "code",
   "execution_count": 13,
   "metadata": {
    "scrolled": true
   },
   "outputs": [
    {
     "name": "stdout",
     "output_type": "stream",
     "text": [
      "Today's portfolio balance: $100000.0\n",
      "Today's portfolio balance change: $0.0\n"
     ]
    }
   ],
   "source": [
    "balance = float(account.equity)\n",
    "print(f'Today\\'s portfolio balance: ${balance}')\n",
    "\n",
    "balance_change = float(account.equity) - float(account.last_equity)\n",
    "print(f'Today\\'s portfolio balance change: ${balance_change}')"
   ]
  },
  {
   "cell_type": "markdown",
   "metadata": {},
   "source": [
    "### Time"
   ]
  },
  {
   "cell_type": "code",
   "execution_count": 34,
   "metadata": {},
   "outputs": [
    {
     "name": "stdout",
     "output_type": "stream",
     "text": [
      "The market is closed.\n",
      "The market opened at 09:30:00 and closed at 16:00:00 on 2018-12-01.\n",
      "It is currently 2020-05-17 14:50:02.148081482-04:00 in NY time.\n",
      "Next time the market opens: 2020-05-18 09:30:00-04:00 .\n",
      "Next time the market closes: 2020-05-18 16:00:00-04:00 .\n"
     ]
    }
   ],
   "source": [
    "clock = api.get_clock()\n",
    "\n",
    "print('The market is {}'.format('open.' if clock.is_open else 'closed.'))\n",
    "\n",
    "\n",
    "current_timestamp = clock.timestamp\n",
    "print('It is currently {} in NY time.'.format(current_timestamp))\n",
    "\n",
    "next_open = clock.next_open\n",
    "next_close = clock.next_close\n",
    "print('Next time the market opens: {} .'.format(next_open))\n",
    "\n",
    "print('Next time the market closes: {} .'.format(next_close))"
   ]
  },
  {
   "cell_type": "markdown",
   "metadata": {},
   "source": [
    "### Calendar\n",
    "\n",
    "Full set of data from 1970s - 2029 of market days"
   ]
  },
  {
   "cell_type": "code",
   "execution_count": 38,
   "metadata": {},
   "outputs": [
    {
     "name": "stdout",
     "output_type": "stream",
     "text": [
      "The market opened at 09:30:00 and closed at 16:00:00 on 2018-12-01.\n"
     ]
    }
   ],
   "source": [
    "calendar = api.get_calendar()\n",
    "\n",
    "# Check when the market was open on Dec. 1, 2018\n",
    "date = '2018-12-01'\n",
    "calendar = api.get_calendar(start=date, end=date)[0]\n",
    "print('The market opened at {} and closed at {} on {}.'.format(\n",
    "    calendar.open,\n",
    "    calendar.close,\n",
    "    date\n",
    "))"
   ]
  },
  {
   "cell_type": "markdown",
   "metadata": {},
   "source": [
    "### Barset\n",
    "\n",
    "Stock Data"
   ]
  },
  {
   "cell_type": "code",
   "execution_count": 52,
   "metadata": {},
   "outputs": [
    {
     "name": "stdout",
     "output_type": "stream",
     "text": [
      "Apple opened 7 days ago at 303.22 and the most recent close was 307.74\n",
      "For the date: 2020-05-07 00:00:00-04:00\n",
      "Apple did the following:\n",
      "Had a high value of: 305.17\n",
      "Had a low value of: 301.97\n",
      "Opened at a value of: 303.22\n",
      "Closed at a value of: 303.75\n",
      "Had a volume of trading: 52106578\n"
     ]
    }
   ],
   "source": [
    "#Limit is how many days in the past do you want. \n",
    "#NOTE: These are NOT trading days, these are days including weekends. \n",
    "\n",
    "barset = api.get_barset('AAPL', 'day', limit=7)\n",
    "aapl_bars = barset['AAPL']\n",
    "\n",
    "# See how much AAPL moved in that timeframe.\n",
    "week_open = aapl_bars[0].o #open\n",
    "week_close = aapl_bars[-1].c #close\n",
    "\n",
    "print(\"Apple opened 7 days ago at {} and the most recent close was {}\".format(week_open,week_close))\n",
    "\n",
    "#lets look at some stats for the last day.\n",
    "time   = aapl_bars[0].t\n",
    "high   = aapl_bars[0].h\n",
    "low    = aapl_bars[0].l\n",
    "openn  = aapl_bars[0].o\n",
    "close  = aapl_bars[0].c\n",
    "volume = aapl_bars[0].v\n",
    "\n",
    "print(\"For the date: {}\".format(time))\n",
    "print(\"Apple did the following:\")\n",
    "print(\"Had a high value of: {}\".format(high))\n",
    "print(\"Had a low value of: {}\".format(low))\n",
    "print(\"Opened at a value of: {}\".format(openn))\n",
    "print(\"Closed at a value of: {}\".format(close))\n",
    "print(\"Had a volume of trading: {}\".format(volume))"
   ]
  },
  {
   "cell_type": "markdown",
   "metadata": {},
   "source": [
    "### Submit a market order to buy 1 share of Apple at market price\n"
   ]
  },
  {
   "cell_type": "code",
   "execution_count": 55,
   "metadata": {},
   "outputs": [],
   "source": [
    "api.submit_order(\n",
    "    symbol='AAPL',\n",
    "    qty=1,\n",
    "    side='buy',\n",
    "    type='market',\n",
    "    time_in_force='gtc'\n",
    ");"
   ]
  },
  {
   "cell_type": "code",
   "execution_count": null,
   "metadata": {},
   "outputs": [],
   "source": []
  },
  {
   "cell_type": "code",
   "execution_count": null,
   "metadata": {},
   "outputs": [],
   "source": []
  },
  {
   "cell_type": "code",
   "execution_count": null,
   "metadata": {},
   "outputs": [],
   "source": []
  }
 ],
 "metadata": {
  "kernelspec": {
   "display_name": "Python 3",
   "language": "python",
   "name": "python3"
  },
  "language_info": {
   "codemirror_mode": {
    "name": "ipython",
    "version": 3
   },
   "file_extension": ".py",
   "mimetype": "text/x-python",
   "name": "python",
   "nbconvert_exporter": "python",
   "pygments_lexer": "ipython3",
   "version": "3.8.0"
  }
 },
 "nbformat": 4,
 "nbformat_minor": 2
}
