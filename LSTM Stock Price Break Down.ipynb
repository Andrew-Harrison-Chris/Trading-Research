{
 "cells": [
  {
   "cell_type": "code",
   "execution_count": 1,
   "metadata": {},
   "outputs": [],
   "source": [
    "import numpy as np\n",
    "import pandas as pd\n",
    "import yfinance\n",
    "import matplotlib.pyplot as plt\n",
    "%matplotlib inline"
   ]
  },
  {
   "cell_type": "code",
   "execution_count": 2,
   "metadata": {},
   "outputs": [
    {
     "name": "stdout",
     "output_type": "stream",
     "text": [
      "[*********************100%***********************]  1 of 1 completed\n",
      "(4780, 6)\n"
     ]
    },
    {
     "data": {
      "text/html": [
       "<div>\n",
       "<style scoped>\n",
       "    .dataframe tbody tr th:only-of-type {\n",
       "        vertical-align: middle;\n",
       "    }\n",
       "\n",
       "    .dataframe tbody tr th {\n",
       "        vertical-align: top;\n",
       "    }\n",
       "\n",
       "    .dataframe thead th {\n",
       "        text-align: right;\n",
       "    }\n",
       "</style>\n",
       "<table border=\"1\" class=\"dataframe\">\n",
       "  <thead>\n",
       "    <tr style=\"text-align: right;\">\n",
       "      <th></th>\n",
       "      <th>Open</th>\n",
       "      <th>High</th>\n",
       "      <th>Low</th>\n",
       "      <th>Close</th>\n",
       "      <th>Adj Close</th>\n",
       "      <th>Volume</th>\n",
       "      <th>Date</th>\n",
       "    </tr>\n",
       "    <tr>\n",
       "      <th>Date</th>\n",
       "      <th></th>\n",
       "      <th></th>\n",
       "      <th></th>\n",
       "      <th></th>\n",
       "      <th></th>\n",
       "      <th></th>\n",
       "      <th></th>\n",
       "    </tr>\n",
       "  </thead>\n",
       "  <tbody>\n",
       "    <tr>\n",
       "      <td>2001-05-16</td>\n",
       "      <td>33.601013</td>\n",
       "      <td>33.601013</td>\n",
       "      <td>33.601013</td>\n",
       "      <td>33.601013</td>\n",
       "      <td>12.179194</td>\n",
       "      <td>0</td>\n",
       "      <td>2001-05-16</td>\n",
       "    </tr>\n",
       "    <tr>\n",
       "      <td>2001-05-17</td>\n",
       "      <td>33.601013</td>\n",
       "      <td>33.601013</td>\n",
       "      <td>33.601013</td>\n",
       "      <td>33.601013</td>\n",
       "      <td>12.179194</td>\n",
       "      <td>0</td>\n",
       "      <td>2001-05-17</td>\n",
       "    </tr>\n",
       "    <tr>\n",
       "      <td>2001-05-18</td>\n",
       "      <td>33.601013</td>\n",
       "      <td>33.601013</td>\n",
       "      <td>33.601013</td>\n",
       "      <td>33.601013</td>\n",
       "      <td>12.179194</td>\n",
       "      <td>0</td>\n",
       "      <td>2001-05-18</td>\n",
       "    </tr>\n",
       "    <tr>\n",
       "      <td>2001-05-21</td>\n",
       "      <td>33.601013</td>\n",
       "      <td>33.601013</td>\n",
       "      <td>33.601013</td>\n",
       "      <td>33.601013</td>\n",
       "      <td>12.179194</td>\n",
       "      <td>0</td>\n",
       "      <td>2001-05-21</td>\n",
       "    </tr>\n",
       "    <tr>\n",
       "      <td>2001-05-22</td>\n",
       "      <td>33.601013</td>\n",
       "      <td>33.601013</td>\n",
       "      <td>33.601013</td>\n",
       "      <td>33.601013</td>\n",
       "      <td>12.179194</td>\n",
       "      <td>0</td>\n",
       "      <td>2001-05-22</td>\n",
       "    </tr>\n",
       "  </tbody>\n",
       "</table>\n",
       "</div>"
      ],
      "text/plain": [
       "                 Open       High        Low      Close  Adj Close  Volume  \\\n",
       "Date                                                                        \n",
       "2001-05-16  33.601013  33.601013  33.601013  33.601013  12.179194       0   \n",
       "2001-05-17  33.601013  33.601013  33.601013  33.601013  12.179194       0   \n",
       "2001-05-18  33.601013  33.601013  33.601013  33.601013  12.179194       0   \n",
       "2001-05-21  33.601013  33.601013  33.601013  33.601013  12.179194       0   \n",
       "2001-05-22  33.601013  33.601013  33.601013  33.601013  12.179194       0   \n",
       "\n",
       "                 Date  \n",
       "Date                   \n",
       "2001-05-16 2001-05-16  \n",
       "2001-05-17 2001-05-17  \n",
       "2001-05-18 2001-05-18  \n",
       "2001-05-21 2001-05-21  \n",
       "2001-05-22 2001-05-22  "
      ]
     },
     "execution_count": 2,
     "metadata": {},
     "output_type": "execute_result"
    }
   ],
   "source": [
    "# Reading in stock data \n",
    "data = yfinance.download('IDT')\n",
    "print(data.shape)\n",
    "data['Date'] = data.index\n",
    "data.head()"
   ]
  },
  {
   "cell_type": "code",
   "execution_count": 3,
   "metadata": {},
   "outputs": [
    {
     "data": {
      "text/plain": [
       "<matplotlib.axes._subplots.AxesSubplot at 0x11dd3c110>"
      ]
     },
     "execution_count": 3,
     "metadata": {},
     "output_type": "execute_result"
    },
    {
     "data": {
      "image/png": "[encoded data removed]",
      "text/plain": [
       "<Figure size 432x288 with 1 Axes>"
      ]
     },
     "metadata": {
      "needs_background": "light"
     },
     "output_type": "display_data"
    }
   ],
   "source": [
    "# Adjusted closing price\n",
    "data['Adj Close'].plot()"
   ]
  },
  {
   "cell_type": "code",
   "execution_count": 43,
   "metadata": {},
   "outputs": [],
   "source": [
    "#Necessary libraries\n",
    "from sklearn.preprocessing import MinMaxScaler\n",
    "from keras.models import Sequential\n",
    "from keras.layers import Dense, Dropout, LSTM"
   ]
  },
  {
   "cell_type": "code",
   "execution_count": 46,
   "metadata": {},
   "outputs": [
    {
     "name": "stdout",
     "output_type": "stream",
     "text": [
      "(4780, 2)\n"
     ]
    },
    {
     "name": "stderr",
     "output_type": "stream",
     "text": [
      "/Users/HarrisonHoffman/opt/anaconda3/lib/python3.7/site-packages/ipykernel_launcher.py:3: SettingWithCopyWarning: \n",
      "A value is trying to be set on a copy of a slice from a DataFrame\n",
      "\n",
      "See the caveats in the documentation: http://pandas.pydata.org/pandas-docs/stable/user_guide/indexing.html#returning-a-view-versus-a-copy\n",
      "  This is separate from the ipykernel package so we can avoid doing imports until\n"
     ]
    },
    {
     "data": {
      "text/html": [
       "<div>\n",
       "<style scoped>\n",
       "    .dataframe tbody tr th:only-of-type {\n",
       "        vertical-align: middle;\n",
       "    }\n",
       "\n",
       "    .dataframe tbody tr th {\n",
       "        vertical-align: top;\n",
       "    }\n",
       "\n",
       "    .dataframe thead th {\n",
       "        text-align: right;\n",
       "    }\n",
       "</style>\n",
       "<table border=\"1\" class=\"dataframe\">\n",
       "  <thead>\n",
       "    <tr style=\"text-align: right;\">\n",
       "      <th></th>\n",
       "      <th>Date</th>\n",
       "      <th>Close</th>\n",
       "    </tr>\n",
       "  </thead>\n",
       "  <tbody>\n",
       "    <tr>\n",
       "      <td>0</td>\n",
       "      <td>2001-05-16</td>\n",
       "      <td>33.601013</td>\n",
       "    </tr>\n",
       "    <tr>\n",
       "      <td>1</td>\n",
       "      <td>2001-05-17</td>\n",
       "      <td>33.601013</td>\n",
       "    </tr>\n",
       "    <tr>\n",
       "      <td>2</td>\n",
       "      <td>2001-05-18</td>\n",
       "      <td>33.601013</td>\n",
       "    </tr>\n",
       "    <tr>\n",
       "      <td>3</td>\n",
       "      <td>2001-05-21</td>\n",
       "      <td>33.601013</td>\n",
       "    </tr>\n",
       "    <tr>\n",
       "      <td>4</td>\n",
       "      <td>2001-05-22</td>\n",
       "      <td>33.601013</td>\n",
       "    </tr>\n",
       "  </tbody>\n",
       "</table>\n",
       "</div>"
      ],
      "text/plain": [
       "        Date      Close\n",
       "0 2001-05-16  33.601013\n",
       "1 2001-05-17  33.601013\n",
       "2 2001-05-18  33.601013\n",
       "3 2001-05-21  33.601013\n",
       "4 2001-05-22  33.601013"
      ]
     },
     "execution_count": 46,
     "metadata": {},
     "output_type": "execute_result"
    }
   ],
   "source": [
    "# Creating data set for model\n",
    "new_data = data[['Date','Close']]\n",
    "new_data.dropna(axis=1,inplace=True)\n",
    "new_data.reset_index(drop=True,inplace=True)\n",
    "print(new_data.shape)\n",
    "new_data.head()"
   ]
  },
  {
   "cell_type": "code",
   "execution_count": 47,
   "metadata": {},
   "outputs": [],
   "source": [
    "#setting index\n",
    "new_data.index = new_data.Date\n",
    "new_data.drop('Date', axis=1, inplace=True)\n",
    "\n",
    "#creating train and test sets\n",
    "dataset = new_data.values\n",
    "\n",
    "train = dataset[0:4200,:]\n",
    "valid = dataset[4200:,:]"
   ]
  },
  {
   "cell_type": "code",
   "execution_count": 48,
   "metadata": {},
   "outputs": [],
   "source": [
    "#converting dataset into x_train and y_train\n",
    "scaler = MinMaxScaler(feature_range=(0, 1))\n",
    "scaled_data = scaler.fit_transform(dataset)\n",
    "\n",
    "# Number of days to look back\n",
    "look_back = 60\n",
    "\n",
    "# Number of days to predict\n",
    "pred_days = 1\n",
    "\n",
    "\n",
    "X_train, y_train = [], []\n",
    "\n",
    "for i in range(60,len(train)):\n",
    "    X_train.append(scaled_data[i-look_back:i,0])\n",
    "    y_train.append(scaled_data[i:i+pred_days,0])\n",
    "    \n",
    "X_train, y_train = np.array(X_train), np.array(y_train)\n",
    "\n",
    "X_train = np.reshape(X_train, (X_train.shape[0],X_train.shape[1],1))"
   ]
  },
  {
   "cell_type": "code",
   "execution_count": 49,
   "metadata": {},
   "outputs": [
    {
     "name": "stdout",
     "output_type": "stream",
     "text": [
      "Epoch 1/15\n",
      " - 3s - loss: 0.0168\n",
      "Epoch 2/15\n",
      " - 2s - loss: 6.3438e-04\n",
      "Epoch 3/15\n",
      " - 2s - loss: 5.2778e-04\n",
      "Epoch 4/15\n",
      " - 2s - loss: 5.1410e-04\n",
      "Epoch 5/15\n",
      " - 2s - loss: 5.1948e-04\n",
      "Epoch 6/15\n",
      " - 2s - loss: 4.9097e-04\n",
      "Epoch 7/15\n",
      " - 3s - loss: 4.8234e-04\n",
      "Epoch 8/15\n",
      " - 2s - loss: 4.6885e-04\n",
      "Epoch 9/15\n",
      " - 2s - loss: 4.5542e-04\n",
      "Epoch 10/15\n",
      " - 2s - loss: 4.3810e-04\n",
      "Epoch 11/15\n",
      " - 2s - loss: 4.3059e-04\n",
      "Epoch 12/15\n",
      " - 2s - loss: 4.0710e-04\n",
      "Epoch 13/15\n",
      " - 2s - loss: 3.9343e-04\n",
      "Epoch 14/15\n",
      " - 2s - loss: 3.7503e-04\n",
      "Epoch 15/15\n",
      " - 2s - loss: 3.5886e-04\n"
     ]
    },
    {
     "data": {
      "text/plain": [
       "<keras.callbacks.callbacks.History at 0x14a5db250>"
      ]
     },
     "execution_count": 49,
     "metadata": {},
     "output_type": "execute_result"
    }
   ],
   "source": [
    "# create and fit the LSTM network\n",
    "model = Sequential()\n",
    "model.add(LSTM(units=50, return_sequences=True, input_shape=(X_train.shape[1],1)))\n",
    "model.add(LSTM(units=50))\n",
    "model.add(Dense(pred_days))\n",
    "\n",
    "model.compile(loss='mean_squared_error', optimizer='adam')\n",
    "model.fit(X_train, y_train, epochs=15, batch_size=100, verbose=2)"
   ]
  },
  {
   "cell_type": "code",
   "execution_count": 51,
   "metadata": {},
   "outputs": [],
   "source": [
    "#predicting 246 days, using past 60 days at each time step\n",
    "inputs = new_data[len(new_data) - len(valid) - look_back:].values\n",
    "inputs = inputs.reshape(-1,1)\n",
    "inputs  = scaler.transform(inputs)"
   ]
  },
  {
   "cell_type": "code",
   "execution_count": 58,
   "metadata": {},
   "outputs": [],
   "source": [
    "X_test = []\n",
    "for i in range(look_back,inputs.shape[0]):\n",
    "    X_test.append(inputs[i-look_back:i,0])\n",
    "X_test = np.array(X_test)"
   ]
  },
  {
   "cell_type": "code",
   "execution_count": 54,
   "metadata": {},
   "outputs": [],
   "source": [
    "X_test = np.reshape(X_test, (X_test.shape[0],X_test.shape[1],1))\n",
    "closing_price = model.predict(X_test)\n",
    "closing_price = scaler.inverse_transform(closing_price)"
   ]
  },
  {
   "cell_type": "code",
   "execution_count": 55,
   "metadata": {},
   "outputs": [
    {
     "data": {
      "text/plain": [
       "0.808830053088032"
      ]
     },
     "execution_count": 55,
     "metadata": {},
     "output_type": "execute_result"
    }
   ],
   "source": [
    "rms=np.sqrt(np.mean(np.power((valid-closing_price),2)))\n",
    "rms"
   ]
  },
  {
   "cell_type": "code",
   "execution_count": 57,
   "metadata": {},
   "outputs": [
    {
     "name": "stderr",
     "output_type": "stream",
     "text": [
      "/Users/HarrisonHoffman/opt/anaconda3/lib/python3.7/site-packages/ipykernel_launcher.py:4: SettingWithCopyWarning: \n",
      "A value is trying to be set on a copy of a slice from a DataFrame.\n",
      "Try using .loc[row_indexer,col_indexer] = value instead\n",
      "\n",
      "See the caveats in the documentation: http://pandas.pydata.org/pandas-docs/stable/user_guide/indexing.html#returning-a-view-versus-a-copy\n",
      "  after removing the cwd from sys.path.\n"
     ]
    },
    {
     "data": {
      "text/plain": [
       "[<matplotlib.lines.Line2D at 0x150678510>,\n",
       " <matplotlib.lines.Line2D at 0x1506af4d0>]"
      ]
     },
     "execution_count": 57,
     "metadata": {},
     "output_type": "execute_result"
    },
    {
     "data": {
      "image/png": "[encoded data removed]",
      "text/plain": [
       "<Figure size 432x288 with 1 Axes>"
      ]
     },
     "metadata": {
      "needs_background": "light"
     },
     "output_type": "display_data"
    }
   ],
   "source": [
    "#for plotting\n",
    "train = new_data[:4200]\n",
    "valid = new_data[4200:]\n",
    "valid['Predictions'] = closing_price\n",
    "#plt.plot(train['Close'])\n",
    "plt.plot(valid[['Close','Predictions']])"
   ]
  },
  {
   "cell_type": "code",
   "execution_count": null,
   "metadata": {},
   "outputs": [],
   "source": []
  }
 ],
 "metadata": {
  "kernelspec": {
   "display_name": "Python 3",
   "language": "python",
   "name": "python3"
  },
  "language_info": {
   "codemirror_mode": {
    "name": "ipython",
    "version": 3
   },
   "file_extension": ".py",
   "mimetype": "text/x-python",
   "name": "python",
   "nbconvert_exporter": "python",
   "pygments_lexer": "ipython3",
   "version": "3.7.4"
  }
 },
 "nbformat": 4,
 "nbformat_minor": 2
}
