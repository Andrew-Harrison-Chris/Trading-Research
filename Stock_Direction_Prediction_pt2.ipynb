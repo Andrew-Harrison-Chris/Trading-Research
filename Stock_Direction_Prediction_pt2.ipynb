{
 "cells": [
  {
   "cell_type": "markdown",
   "metadata": {},
   "source": [
    "# Throw a neural net at a crap ton of indicators. Try to predict if the stock will go up or down in the next 5 days."
   ]
  },
  {
   "cell_type": "code",
   "execution_count": 1,
   "metadata": {},
   "outputs": [],
   "source": [
    "import numpy as np\n",
    "import pandas as pd\n",
    "import yfinance\n",
    "import matplotlib.pyplot as plt\n",
    "import seaborn as sns\n",
    "import indicators\n",
    "%matplotlib inline\n",
    "from sklearn.preprocessing import MinMaxScaler\n",
    "from keras.models import Sequential\n",
    "from keras.layers import Dense,Dropout\n",
    "from sklearn.model_selection import train_test_split\n",
    "from sklearn.model_selection import TimeSeriesSplit\n",
    "from sklearn.metrics import classification_report,confusion_matrix"
   ]
  },
  {
   "cell_type": "code",
   "execution_count": 15,
   "metadata": {},
   "outputs": [],
   "source": [
    "def get_data(ticker):\n",
    "\n",
    "    # Reading in stock data \n",
    "    data = yfinance.download(ticker)\n",
    "    print(data.shape)\n",
    "    data['Date'] = data.index\n",
    "    data.reset_index(drop=True,inplace=True)\n",
    "    data.head()\n",
    "\n",
    "    for days in [5,7,14,21,50,100]:\n",
    "        data = indicators.accumulation_distribution(data,days)\n",
    "        data = indicators.average_true_range(data,days)\n",
    "        data = indicators.bollinger_bands(data,days)\n",
    "        data = indicators.commodity_channel_index(data,days)\n",
    "        data = indicators.coppock_curve(data,days)\n",
    "        #data = indicators.donchian_channel(data,days)\n",
    "        data = indicators.ease_of_movement(data,days)\n",
    "        data = indicators.exponential_moving_average(data,days)\n",
    "        data = indicators.force_index(data,days)\n",
    "        data = indicators.keltner_channel(data,days)\n",
    "        data = indicators.macd(data,days,days)\n",
    "        data = indicators.momentum(data,days)\n",
    "        data = indicators.money_flow_index(data,days)\n",
    "        data = indicators.moving_average(data,days)\n",
    "        data = indicators.on_balance_volume(data,days)\n",
    "        data = indicators.rate_of_change(data,days)\n",
    "        data = indicators.relative_strength_index(data,days)\n",
    "        data = indicators.standard_deviation(data,days)\n",
    "        data = indicators.stochastic_oscillator_d(data,days)\n",
    "        data = indicators.trix(data,days)\n",
    "        data = indicators.vortex_indicator(data,days)\n",
    "\n",
    "\n",
    "\n",
    "    data = indicators.mass_index(data)\n",
    "    data = indicators.ppsr(data)\n",
    "    data = indicators.stochastic_oscillator_k(data)\n",
    "    data = indicators.ultimate_oscillator(data)    \n",
    "    data = indicators.chaikin_oscillator(data)\n",
    "\n",
    "    data = data.replace([np.inf, -np.inf], np.nan)\n",
    "    data = data.dropna()\n",
    "    \n",
    "    return data"
   ]
  },
  {
   "cell_type": "code",
   "execution_count": 16,
   "metadata": {},
   "outputs": [],
   "source": [
    "def model(ticker):\n",
    "    data = get_data(ticker)\n",
    "    copy_data = data.copy()\n",
    "    data = data[:-20] #Drop last 20 days of data, save this for testing.\n",
    "    \n",
    "    \n",
    "    # Calculating next n day price\n",
    "    data['Close5'] = data['Close'].shift(-5)\n",
    "\n",
    "    # Calculating next n direction\n",
    "    data['Direction5'] = data['Close5'] > data['Close']\n",
    "    data = data.dropna()\n",
    "    data.tail(10)\n",
    "\n",
    "\n",
    "\n",
    "    # Creating train and test set\n",
    "    X,y = data.drop(['Close5','Direction5','Date'],axis=1),data['Direction5']\n",
    "\n",
    "    scaler = MinMaxScaler(feature_range=(0, 1))\n",
    "    scaled_inputs = scaler.fit_transform(X)\n",
    "    scaled_inputs = pd.DataFrame(scaled_inputs,columns=X.columns)\n",
    "\n",
    "    X_train,X_test,y_train,y_test = train_test_split(scaled_inputs,y,test_size=.03,random_state=101)\n",
    "\n",
    "\n",
    "\n",
    "    # Network time\n",
    "    model = Sequential()\n",
    "    model.add(Dense(100, input_dim=X_train.shape[1], activation='relu'))\n",
    "    model.add(Dense(100, activation='relu'))\n",
    "    model.add(Dense(50, activation='relu'))\n",
    "    model.add(Dense(1, activation='sigmoid'))\n",
    "\n",
    "\n",
    "    model.compile(loss='binary_crossentropy', optimizer='adam', metrics=['accuracy'])\n",
    "    model.fit(X_train, y_train,validation_data=(X_test,y_test), epochs=300, batch_size=100, verbose=0)\n",
    "\n",
    "\n",
    "    # Calculating next n day price\n",
    "    copy_data['Close5'] = copy_data['Close'].shift(-5)\n",
    "\n",
    "\n",
    "\n",
    "    # Calculating next n direction\n",
    "    copy_data['Direction5'] = copy_data['Close5'] > copy_data['Close']\n",
    "    copy_data = copy_data.dropna()\n",
    "\n",
    "    ts = pd.Series(copy_data['Direction5'].values)\n",
    "\n",
    "    X = copy_data.drop(['Close5','Direction5','Date'],axis=1, inplace=True)#,copy_data['Direction5']\n",
    "\n",
    "    rows, columns = copy_data.shape\n",
    "    copy_data = copy_data[rows-15:rows]\n",
    "    ts = ts[rows-15:rows]\n",
    "\n",
    "    preds = model.predict(copy_data)\n",
    "    preds = [i > .50 for i in preds]\n",
    "    predicted = []\n",
    "    for pred in preds:\n",
    "        val = pred[0]\n",
    "        predicted.append(val)\n",
    "    print(classification_report(ts,predicted))\n",
    "    print(confusion_matrix(ts,predicted))\n"
   ]
  },
  {
   "cell_type": "code",
   "execution_count": 17,
   "metadata": {},
   "outputs": [
    {
     "name": "stdout",
     "output_type": "stream",
     "text": [
      "[*********************100%***********************]  1 of 1 completed\n",
      "(9940, 6)\n",
      "              precision    recall  f1-score   support\n",
      "\n",
      "       False       0.00      0.00      0.00         1\n",
      "        True       0.80      0.29      0.42        14\n",
      "\n",
      "    accuracy                           0.27        15\n",
      "   macro avg       0.40      0.14      0.21        15\n",
      "weighted avg       0.75      0.27      0.39        15\n",
      "\n",
      "[[ 0  1]\n",
      " [10  4]]\n",
      "[*********************100%***********************]  1 of 1 completed\n",
      "(5589, 6)\n"
     ]
    },
    {
     "name": "stderr",
     "output_type": "stream",
     "text": [
      "/Library/Frameworks/Python.framework/Versions/3.8/lib/python3.8/site-packages/sklearn/metrics/_classification.py:1221: UndefinedMetricWarning: Precision and F-score are ill-defined and being set to 0.0 in labels with no predicted samples. Use `zero_division` parameter to control this behavior.\n",
      "  _warn_prf(average, modifier, msg_start, len(result))\n"
     ]
    },
    {
     "name": "stdout",
     "output_type": "stream",
     "text": [
      "              precision    recall  f1-score   support\n",
      "\n",
      "       False       0.00      0.00      0.00         7\n",
      "        True       0.53      1.00      0.70         8\n",
      "\n",
      "    accuracy                           0.53        15\n",
      "   macro avg       0.27      0.50      0.35        15\n",
      "weighted avg       0.28      0.53      0.37        15\n",
      "\n",
      "[[0 7]\n",
      " [0 8]]\n",
      "[*********************100%***********************]  1 of 1 completed\n",
      "(4021, 6)\n"
     ]
    },
    {
     "name": "stderr",
     "output_type": "stream",
     "text": [
      "/Library/Frameworks/Python.framework/Versions/3.8/lib/python3.8/site-packages/sklearn/metrics/_classification.py:1221: UndefinedMetricWarning: Precision and F-score are ill-defined and being set to 0.0 in labels with no predicted samples. Use `zero_division` parameter to control this behavior.\n",
      "  _warn_prf(average, modifier, msg_start, len(result))\n"
     ]
    },
    {
     "name": "stdout",
     "output_type": "stream",
     "text": [
      "              precision    recall  f1-score   support\n",
      "\n",
      "       False       0.00      0.00      0.00         6\n",
      "        True       0.60      1.00      0.75         9\n",
      "\n",
      "    accuracy                           0.60        15\n",
      "   macro avg       0.30      0.50      0.37        15\n",
      "weighted avg       0.36      0.60      0.45        15\n",
      "\n",
      "[[0 6]\n",
      " [0 9]]\n",
      "[*********************100%***********************]  1 of 1 completed\n",
      "(10129, 6)\n",
      "              precision    recall  f1-score   support\n",
      "\n",
      "       False       0.45      0.71      0.56         7\n",
      "        True       0.50      0.25      0.33         8\n",
      "\n",
      "    accuracy                           0.47        15\n",
      "   macro avg       0.48      0.48      0.44        15\n",
      "weighted avg       0.48      0.47      0.44        15\n",
      "\n",
      "[[5 2]\n",
      " [6 2]]\n",
      "[*********************100%***********************]  1 of 1 completed\n",
      "(4991, 6)\n",
      "              precision    recall  f1-score   support\n",
      "\n",
      "       False       0.33      1.00      0.50         3\n",
      "        True       1.00      0.50      0.67        12\n",
      "\n",
      "    accuracy                           0.60        15\n",
      "   macro avg       0.67      0.75      0.58        15\n",
      "weighted avg       0.87      0.60      0.63        15\n",
      "\n",
      "[[3 0]\n",
      " [6 6]]\n"
     ]
    }
   ],
   "source": [
    "#stocks chosen with : https://raybb.github.io/random-stock-picker/\n",
    "stocks = ['AAPL', 'MUH', 'GLU', 'D', 'SAVA']\n",
    "for stock in stocks:\n",
    "    model(stock)"
   ]
  },
  {
   "cell_type": "markdown",
   "metadata": {},
   "source": [
    "### Conclusion: This doesn't seem to work..."
   ]
  },
  {
   "cell_type": "code",
   "execution_count": null,
   "metadata": {},
   "outputs": [],
   "source": []
  }
 ],
 "metadata": {
  "kernelspec": {
   "display_name": "Python 3",
   "language": "python",
   "name": "python3"
  },
  "language_info": {
   "codemirror_mode": {
    "name": "ipython",
    "version": 3
   },
   "file_extension": ".py",
   "mimetype": "text/x-python",
   "name": "python",
   "nbconvert_exporter": "python",
   "pygments_lexer": "ipython3",
   "version": "3.8.0"
  }
 },
 "nbformat": 4,
 "nbformat_minor": 2
}
