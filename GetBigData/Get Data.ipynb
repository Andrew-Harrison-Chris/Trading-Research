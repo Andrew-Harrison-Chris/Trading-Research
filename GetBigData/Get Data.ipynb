{
 "cells": [
  {
   "cell_type": "code",
   "execution_count": 5,
   "metadata": {},
   "outputs": [],
   "source": [
    "import numpy as np\n",
    "import pandas as pd\n",
    "import os\n",
    "import yfinance\n",
    "import indicators"
   ]
  },
  {
   "cell_type": "code",
   "execution_count": 6,
   "metadata": {},
   "outputs": [],
   "source": [
    "stocks = pd.read_csv(\"Results.csv\")\n",
    "stocks = stocks['Symbol'].values"
   ]
  },
  {
   "cell_type": "code",
   "execution_count": 7,
   "metadata": {},
   "outputs": [],
   "source": [
    "data_all = pd.DataFrame()"
   ]
  },
  {
   "cell_type": "code",
   "execution_count": null,
   "metadata": {},
   "outputs": [
    {
     "name": "stdout",
     "output_type": "stream",
     "text": [
      "[*********************100%***********************]  1 of 1 completed\n",
      "(5156, 6)\n"
     ]
    },
    {
     "name": "stderr",
     "output_type": "stream",
     "text": [
      "/Users/HarrisonHoffman/Desktop/chris-harrison-ml/Trading-Research/GetBigData/indicators.py:552: FutureWarning: \n",
      ".ix is deprecated. Please use\n",
      ".loc for label based indexing or\n",
      ".iloc for positional indexing\n",
      "\n",
      "See the documentation here:\n",
      "http://pandas.pydata.org/pandas-docs/stable/user_guide/indexing.html#ix-indexer-is-deprecated\n",
      "  dc = max(df['High'].ix[i:i + n - 1]) - min(df['Low'].ix[i:i + n - 1])\n"
     ]
    },
    {
     "name": "stdout",
     "output_type": "stream",
     "text": [
      "Shape of data:  (4739, 178)\n",
      "(4739, 178)\n",
      "[*********************100%***********************]  1 of 1 completed\n",
      "(14695, 6)\n",
      "Shape of data:  (18425, 178)\n",
      "(18425, 178)\n",
      "[*********************100%***********************]  1 of 1 completed\n",
      "(301, 6)\n",
      "Shape of data:  (18425, 178)\n",
      "(18425, 178)\n",
      "[*********************100%***********************]  1 of 1 completed\n",
      "(5418, 6)\n",
      "Shape of data:  (18852, 178)\n",
      "(18852, 178)\n",
      "[*********************100%***********************]  1 of 1 completed\n",
      "(2225, 6)\n",
      "Shape of data:  (18875, 178)\n",
      "(18875, 178)\n",
      "[*********************100%***********************]  1 of 1 completed\n",
      "(1923, 6)\n",
      "Shape of data:  (18875, 178)\n",
      "(18875, 178)\n",
      "[*********************100%***********************]  1 of 1 completed\n",
      "(8325, 6)\n",
      "Shape of data:  (18975, 178)\n",
      "(18975, 178)\n",
      "[*********************100%***********************]  1 of 1 completed\n",
      "(3685, 6)\n"
     ]
    }
   ],
   "source": [
    "for stock in stocks:\n",
    "    # Reading in stock data \n",
    "    data = yfinance.download(stock)\n",
    "    print(data.shape)\n",
    "    data['Date'] = data.index\n",
    "    data.reset_index(drop=True,inplace=True)\n",
    "    data['Symbol'] = [stock]*data.shape[0]\n",
    "\n",
    "    for days in [5,7,14,21,50,100]:\n",
    "        data = indicators.accumulation_distribution(data,days)\n",
    "        data = indicators.average_true_range(data,days)\n",
    "        data = indicators.bollinger_bands(data,days)\n",
    "        data = indicators.commodity_channel_index(data,days)\n",
    "        data = indicators.coppock_curve(data,days)\n",
    "        data = indicators.donchian_channel(data,days)\n",
    "        data = indicators.ease_of_movement(data,days)\n",
    "        data = indicators.exponential_moving_average(data,days)\n",
    "        data = indicators.force_index(data,days)\n",
    "        data = indicators.keltner_channel(data,days)\n",
    "        data = indicators.macd(data,days,days)\n",
    "        data = indicators.momentum(data,days)\n",
    "        data = indicators.money_flow_index(data,days)\n",
    "        data = indicators.moving_average(data,days)\n",
    "        data = indicators.on_balance_volume(data,days)\n",
    "        data = indicators.rate_of_change(data,days)\n",
    "        data = indicators.relative_strength_index(data,days)\n",
    "        data = indicators.standard_deviation(data,days)\n",
    "        data = indicators.stochastic_oscillator_d(data,days)\n",
    "        data = indicators.trix(data,days)\n",
    "        data = indicators.vortex_indicator(data,days)\n",
    "\n",
    "\n",
    "\n",
    "    data = indicators.mass_index(data)\n",
    "    data = indicators.ppsr(data)\n",
    "    data = indicators.stochastic_oscillator_k(data)\n",
    "    data = indicators.ultimate_oscillator(data)    \n",
    "    data = indicators.chaikin_oscillator(data)\n",
    "\n",
    "    # Calculating next n day price\n",
    "    data['Close5'] = data['Close'].shift(-5)\n",
    "    \n",
    "    # Calculating percent change\n",
    "    data['Close5PercentChange'] = (data['Close5'] - data['Close'])/data['Close']\n",
    "\n",
    "    # Calculating next n direction\n",
    "    data['Direction5'] = data['Close5'] > data['Close']\n",
    "    data = data.replace([np.inf, -np.inf], np.nan)\n",
    "    data = data.dropna()\n",
    "    \n",
    "    data_all = data_all.append(data)\n",
    "    print(\"Shape of data: \", data_all.shape)\n",
    "    \n",
    "    print(data_all.shape)"
   ]
  },
  {
   "cell_type": "code",
   "execution_count": null,
   "metadata": {},
   "outputs": [],
   "source": [
    "data_all.to_csv(\"universe.csv\")"
   ]
  },
  {
   "cell_type": "code",
   "execution_count": null,
   "metadata": {},
   "outputs": [],
   "source": []
  }
 ],
 "metadata": {
  "kernelspec": {
   "display_name": "Python 3",
   "language": "python",
   "name": "python3"
  },
  "language_info": {
   "codemirror_mode": {
    "name": "ipython",
    "version": 3
   },
   "file_extension": ".py",
   "mimetype": "text/x-python",
   "name": "python",
   "nbconvert_exporter": "python",
   "pygments_lexer": "ipython3",
   "version": "3.7.4"
  }
 },
 "nbformat": 4,
 "nbformat_minor": 2
}
